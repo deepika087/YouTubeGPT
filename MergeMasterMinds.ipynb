{
  "cells": [
    {
      "cell_type": "markdown",
      "metadata": {
        "id": "view-in-github",
        "colab_type": "text"
      },
      "source": [
        "<a href=\"https://colab.research.google.com/github/deepika087/YouTubeGPT/blob/main/MergeMasterMinds.ipynb\" target=\"_parent\"><img src=\"https://colab.research.google.com/assets/colab-badge.svg\" alt=\"Open In Colab\"/></a>"
      ]
    },
    {
      "cell_type": "code",
      "execution_count": null,
      "metadata": {
        "id": "So-z3wPvGKcB"
      },
      "outputs": [],
      "source": [
        "!pip install llama-index\n",
        "!pip install nest_asyncio\n",
        "import nest_asyncio\n",
        "nest_asyncio.apply()\n",
        "!pip install httpx\n",
        "!pip install sentence_transformers\n",
        "!pip install --upgrade openai\n"
      ]
    },
    {
      "cell_type": "code",
      "execution_count": 1,
      "metadata": {
        "id": "pL7X3asSBkHt"
      },
      "outputs": [],
      "source": [
        "REPO_URI = \"deepika087/YouTubeGPT\" #Required as input\n",
        "PULL_NUMBER = 2                  #Required as input\n",
        "branch = \"main\"                      #Mostly, will remain unchanged\n",
        "\n",
        "owner,repo = REPO_URI.split('/')"
      ]
    },
    {
      "cell_type": "code",
      "execution_count": 46,
      "metadata": {
        "id": "B6OJq8d-ahMw"
      },
      "outputs": [],
      "source": [
        "ROLE = \"Consider you are a software developer with 15 years of experience. Now, that you have been trained on the repo\"\n",
        "NEXT_QUESTION = \"Next Question\"\n",
        "QUESTION1 = ROLE + NEXT_QUESTION + \" Following is the diff of a PR can you that you have been assigned \" \\\n",
        "            \" can you review the diff and summarize the diff. Heading is Summary \"\n",
        "\n",
        "QUESTION2 = ROLE + NEXT_QUESTION + \"Detect breaking changes in a git diff. Here are some things that can\" \\\n",
        "            \"cause a breaking change - new parameters to public functions which are\" \\\n",
        "            \"required and have no default value. Heading is Risk Analysis\"\n",
        "\n",
        "QUESTION3 = ROLE + NEXT_QUESTION + \"Can you summarize the test coverage of this PR and tell how is it improving\" \\\n",
        "            \"overall test coverage of the repo or decreasing it. Heading is Test Coverage\"\n",
        "\n",
        "QUESTION4 = ROLE + NEXT_QUESTION + \"Can you list some potential bugs in the PR diff. \"\\\n",
        "            \"Heading is Potential Bugs\"\n",
        "\n",
        "QUESTION5 = ROLE + NEXT_QUESTION + \"Write the unit test cases for the functions are not covered in the PR\"\\\n",
        "            \"Heading is Unit Test Cases\"\n",
        "\n",
        "INSTRUCTIONS = \"Make sure to prefix a heading as mentioned at the end of each question before answering each question.\"\\\n",
        "\"Also, in the end can you add your reasoning behind your answers. As this will help the code to understand the reasoning behind the answers. \""
      ]
    },
    {
      "cell_type": "code",
      "execution_count": 3,
      "metadata": {
        "id": "kEwESvrGF9__"
      },
      "outputs": [],
      "source": [
        "from llama_index import VectorStoreIndex, GithubRepositoryReader\n",
        "from llama_index.embeddings.openai import OpenAIEmbedding, OpenAIEmbeddingMode\n",
        "from llama_index import (\n",
        "    GPTVectorStoreIndex,\n",
        "    LLMPredictor,\n",
        "    ServiceContext,\n",
        "    download_loader,\n",
        ")\n",
        "from llama_index.node_parser.simple import SimpleNodeParser\n",
        "from langchain.chat_models import ChatOpenAI\n",
        "from llama_index.langchain_helpers.text_splitter import TokenTextSplitter\n",
        "from langchain.llms import AzureOpenAI\n",
        "from llama_index import LangchainEmbedding\n",
        "from langchain.embeddings import OpenAIEmbeddings\n",
        "from llama_index import set_global_service_context\n",
        "from langchain.embeddings.huggingface import HuggingFaceBgeEmbeddings\n",
        "\n",
        "\n",
        "import openai\n",
        "import json\n",
        "import os\n",
        "import requests\n",
        "import time\n"
      ]
    },
    {
      "cell_type": "code",
      "execution_count": 4,
      "metadata": {
        "id": "FbLKbtcqGY2H"
      },
      "outputs": [],
      "source": [
        "GITHUB_TOKEN = \"TOKEN\"\n",
        "OPENAI_API_BASE = \"YOUR BASE\"\n",
        "OPENAI_API_KEY = \"YOUR KEY\"\n",
        "openai.api_type = \"azure\"\n",
        "openai.api_base = OPENAI_API_BASE\n",
        "openai.api_key = OPENAI_API_KEY\n",
        "openai.api_version = \"2023-05-15\"\n",
        "MODEL_NAME = \"text-davinci-003\""
      ]
    },
    {
      "cell_type": "code",
      "execution_count": 5,
      "metadata": {
        "id": "bYUfndcvLhsi",
        "colab": {
          "base_uri": "https://localhost:8080/"
        },
        "outputId": "70110456-d156-4701-9a97-7e6efe634fe2"
      },
      "outputs": [
        {
          "output_type": "stream",
          "name": "stderr",
          "text": [
            "/usr/local/lib/python3.10/dist-packages/langchain/utils/utils.py:155: UserWarning: WARNING! engine is not default parameter.\n",
            "                engine was transferred to model_kwargs.\n",
            "                Please confirm that engine is what you intended.\n",
            "  warnings.warn(\n"
          ]
        }
      ],
      "source": [
        "CHUNK_SIZE_LIMIT = 512\n",
        "\n",
        "Hembed_model = HuggingFaceBgeEmbeddings(model_name=\"BAAI/bge-base-en\")\n",
        "\n",
        "llm = AzureOpenAI(\n",
        "    openai_api_key = openai.api_key,\n",
        "    openai_api_version = openai.api_version,\n",
        "    engine = MODEL_NAME )\n",
        "\n",
        "LLM_PREDICTOR = LLMPredictor(llm=llm)\n",
        "\n",
        "node_parser = SimpleNodeParser(\n",
        "  text_splitter=TokenTextSplitter(chunk_size=CHUNK_SIZE_LIMIT, chunk_overlap=10)\n",
        ")\n",
        "\n",
        "service_context = ServiceContext.from_defaults(\n",
        "        llm_predictor=LLM_PREDICTOR,\n",
        "        embed_model=Hembed_model,\n",
        "        node_parser=node_parser\n",
        "    )\n",
        "set_global_service_context(service_context)"
      ]
    },
    {
      "cell_type": "code",
      "execution_count": 12,
      "metadata": {
        "id": "QLDj0GWgHG7m"
      },
      "outputs": [],
      "source": [
        "# Read the github repo\n",
        "documents = []\n",
        "\n",
        "documents = GithubRepositoryReader(\n",
        "    github_token=GITHUB_TOKEN,\n",
        "    owner=owner,\n",
        "    repo=repo,\n",
        "    ignore_directories=[\"notebooks\", \"tutorial\", \".github\", \"website\", \".vscode\"],\n",
        "    use_parser=False,\n",
        "    verbose=False,\n",
        "    concurrent_requests=10).load_data(branch=branch)"
      ]
    },
    {
      "cell_type": "code",
      "source": [
        "print(documents)"
      ],
      "metadata": {
        "colab": {
          "base_uri": "https://localhost:8080/"
        },
        "id": "Cp7XHKcJ5hM_",
        "outputId": "ad36fcfc-1910-4fb7-a973-893823118de7"
      },
      "execution_count": 22,
      "outputs": [
        {
          "output_type": "stream",
          "name": "stdout",
          "text": [
            "[Document(id_='37cf688a31d7ed8ea7780b840054310b9f004e65', embedding=None, metadata={'file_path': '.gitignore', 'file_name': '.gitignore'}, excluded_embed_metadata_keys=[], excluded_llm_metadata_keys=[], relationships={}, hash='3e4320bc293508f82481daac35ecdf5b083c2fd38497a7c65954273f344818e2', text=\"# Byte-compiled / optimized / DLL files\\n__pycache__/\\n*.py[cod]\\n*$py.class\\n\\n# C extensions\\n*.so\\n\\n# Distribution / packaging\\n.Python\\nbuild/\\ndevelop-eggs/\\ndist/\\ndownloads/\\neggs/\\n.eggs/\\nlib/\\nlib64/\\nparts/\\nsdist/\\nvar/\\nwheels/\\nshare/python-wheels/\\n*.egg-info/\\n.installed.cfg\\n*.egg\\nMANIFEST\\n\\n# PyInstaller\\n#  Usually these files are written by a python script from a template\\n#  before PyInstaller builds the exe, so as to inject date/other infos into it.\\n*.manifest\\n*.spec\\n\\n# Installer logs\\npip-log.txt\\npip-delete-this-directory.txt\\n\\n# Unit test / coverage reports\\nhtmlcov/\\n.tox/\\n.nox/\\n.coverage\\n.coverage.*\\n.cache\\nnosetests.xml\\ncoverage.xml\\n*.cover\\n*.py,cover\\n.hypothesis/\\n.pytest_cache/\\ncover/\\n\\n# Translations\\n*.mo\\n*.pot\\n\\n# Django stuff:\\n*.log\\nlocal_settings.py\\ndb.sqlite3\\ndb.sqlite3-journal\\n\\n# Flask stuff:\\ninstance/\\n.webassets-cache\\n\\n# Scrapy stuff:\\n.scrapy\\n\\n# Sphinx documentation\\ndocs/_build/\\n\\n# PyBuilder\\n.pybuilder/\\ntarget/\\n\\n# Jupyter Notebook\\n.ipynb_checkpoints\\n\\n# IPython\\nprofile_default/\\nipython_config.py\\nsettings.py\\n\\n# pyenv\\n#   For a library or package, you might want to ignore these files since the code is\\n#   intended to run in multiple environments; otherwise, check them in:\\n# .python-version\\n\\n# pipenv\\n#   According to pypa/pipenv#598, it is recommended to include Pipfile.lock in version control.\\n#   However, in case of collaboration, if having platform-specific dependencies or dependencies\\n#   having no cross-platform support, pipenv may install dependencies that don't work, or not\\n#   install all needed dependencies.\\n#Pipfile.lock\\n\\n# poetry\\n#   Similar to Pipfile.lock, it is generally recommended to include poetry.lock in version control.\\n#   This is especially recommended for binary packages to ensure reproducibility, and is more\\n#   commonly ignored for libraries.\\n#   https://python-poetry.org/docs/basic-usage/#commit-your-poetrylock-file-to-version-control\\n#poetry.lock\\n\\n# pdm\\n#   Similar to Pipfile.lock, it is generally recommended to include pdm.lock in version control.\\n#pdm.lock\\n#   pdm stores project-wide configurations in .pdm.toml, but it is recommended to not include it\\n#   in version control.\\n#   https://pdm.fming.dev/#use-with-ide\\n.pdm.toml\\n\\n# PEP 582; used by e.g. github.com/David-OConnor/pyflow and github.com/pdm-project/pdm\\n__pypackages__/\\n\\n# Celery stuff\\ncelerybeat-schedule\\ncelerybeat.pid\\n\\n# SageMath parsed files\\n*.sage.py\\n\\n# Environments\\n.env\\n.venv\\nenv/\\nvenv/\\nENV/\\nenv.bak/\\nvenv.bak/\\n\\n# Spyder project settings\\n.spyderproject\\n.spyproject\\n\\n# Rope project settings\\n.ropeproject\\n\\n# mkdocs documentation\\n/site\\n\\n# mypy\\n.mypy_cache/\\n.dmypy.json\\ndmypy.json\\n\\n# Pyre type checker\\n.pyre/\\n\\n# pytype static type analyzer\\n.pytype/\\n\\n# Cython debug symbols\\ncython_debug/\\n\\n# PyCharm\\n#  JetBrains specific template is maintained in a separate JetBrains.gitignore that can\\n#  be found at https://github.com/github/gitignore/blob/main/Global/JetBrains.gitignore\\n#  and can be added to the global gitignore or merged into this file.  For a more nuclear\\n#  option (not recommended) you can uncomment the following to ignore the entire idea folder.\\n#.idea/\\n\", start_char_idx=None, end_char_idx=None, text_template='{metadata_str}\\n\\n{content}', metadata_template='{key}: {value}', metadata_seperator='\\n'), Document(id_='40f740aa44d72efe4672e345f1fe66a5d5fd642c', embedding=None, metadata={'file_path': 'LICENSE', 'file_name': 'LICENSE'}, excluded_embed_metadata_keys=[], excluded_llm_metadata_keys=[], relationships={}, hash='37a6a467335d47e16d64738a32f89841f504520f6e063cf67f4a8703725a46a8', text='MIT License\\n\\nCopyright (c) 2023 Deepika Anand\\n\\nPermission is hereby granted, free of charge, to any person obtaining a copy\\nof this software and associated documentation files (the \"Software\"), to deal\\nin the Software without restriction, including without limitation the rights\\nto use, copy, modify, merge, publish, distribute, sublicense, and/or sell\\ncopies of the Software, and to permit persons to whom the Software is\\nfurnished to do so, subject to the following conditions:\\n\\nThe above copyright notice and this permission notice shall be included in all\\ncopies or substantial portions of the Software.\\n\\nTHE SOFTWARE IS PROVIDED \"AS IS\", WITHOUT WARRANTY OF ANY KIND, EXPRESS OR\\nIMPLIED, INCLUDING BUT NOT LIMITED TO THE WARRANTIES OF MERCHANTABILITY,\\nFITNESS FOR A PARTICULAR PURPOSE AND NONINFRINGEMENT. IN NO EVENT SHALL THE\\nAUTHORS OR COPYRIGHT HOLDERS BE LIABLE FOR ANY CLAIM, DAMAGES OR OTHER\\nLIABILITY, WHETHER IN AN ACTION OF CONTRACT, TORT OR OTHERWISE, ARISING FROM,\\nOUT OF OR IN CONNECTION WITH THE SOFTWARE OR THE USE OR OTHER DEALINGS IN THE\\nSOFTWARE.\\n', start_char_idx=None, end_char_idx=None, text_template='{metadata_str}\\n\\n{content}', metadata_template='{key}: {value}', metadata_seperator='\\n'), Document(id_='ffe1489f2ee8717212de7fdbd25004c587d370ca', embedding=None, metadata={'file_path': 'README.md', 'file_name': 'README.md'}, excluded_embed_metadata_keys=[], excluded_llm_metadata_keys=[], relationships={}, hash='bd9eecf8d9c041176b834bfc2d7c3f803f05c6013c9e9af8a2f74ff4be169670', text='# YouTubeGPT\\n\\nThe aim of this project is to allow the use to analyse youtube videos\\' comment section before watching the video. The user can not only see the youtube video comments but also do semantic analysis plus filter keywords from the comment section that will allow the user to make educated guess if the user would like to watch the video \\n\\n\\n## Pre-requisites\\n1. Youtube Data Key\\n2. Open AI key\\n3. python libraries such as openai\\n\\n\\n## To run the project\\n > Run the requirement file. \\n\\n > Replace the keys in settings.py\\n\\n > analysis.py is the main file that can be called using python3 analysis.py video_id. Say, \"python3 analysis.py DOWDNBu9DkU\"\\n \\nThe above command will return summary, semantics and keywords of the comment section of the Youtube video provided.\\n\\n\\n## Sample Output \\nTo test out the code, I used the video of a famous Youtuber Mark Rober whose glitter bomb video had 19M views. \\n\\npython3 analysis.py DOWDNBu9DkU\\n\\n-------------SUMMARY-------------\\n\\nIt is incredible to see how Rwandans have been able to use drones to save lives. It is inspiring to see the hard work and effort put into this project, and it is something that needs to be normalized in the future. It is also important to recognize the inventiveness of the people who designed these drones for positive medical delivery.\\n\\n-------------SEMANTICS-------------\\n\\nPositive\\n\\n-------------KEYWORDS-------------\\n\\n[\\'Keywords: Rwandans, drones, save lives, hard work, effort, normalized, inventiveness, designed, positive medical delivery.\\']\\n\\n\\n## Scope of Improvement\\n1. Say, the youtube video is related to finance, in the commment section people might express opinion about the bad conditions of financial markets or the failing banks. This will result is semantics is negative even if the purpose of the video were to be just educational. So, I think there is scope to tie the semantics of the video with the semantics of the comment section. \\n2. Add unit testing\\n3. Add a switch such that when it is used the call to Youtube API is completely ignored and mocked data is used. \\n4. Add the code behind a chrome extension for seamless integration. \\n\\n', start_char_idx=None, end_char_idx=None, text_template='{metadata_str}\\n\\n{content}', metadata_template='{key}: {value}', metadata_seperator='\\n'), Document(id_='8b69e00429a3256f9284559a687328777e2ae016', embedding=None, metadata={'file_path': 'analysis.py', 'file_name': 'analysis.py'}, excluded_embed_metadata_keys=[], excluded_llm_metadata_keys=[], relationships={}, hash='bebe540f3783db0b81aa55db295799efb1587b1fd1c27b08151da4507db0d5cd', text='import os\\nimport openai\\nfrom settings import OPEN_AI_KEY\\nfrom list_youtube_comments import comment_workflow, extract_data\\nimport sys\\n\\nopenai.api_key = OPEN_AI_KEY\\n\\ndef call_davinci_003(prompt, \\n                     temperature = 0.7, \\n                     max_tokens = 312, \\n                     top_p = 1.0, \\n                     frequency_penalty = 0.0, \\n                     presence_penalty = 1, \\n                     prefix = \\'\\',\\n                     suffix = \\'\\'):\\n    prompt += prefix + \"\\\\n\\\\n\" + prompt + \"\\\\n\\\\n\" + suffix\\n\\n    response = openai.Completion.create(\\n        model=\"text-davinci-003\",\\n        prompt=prompt,\\n        temperature=temperature,\\n        max_tokens=max_tokens,\\n        top_p=top_p,\\n        frequency_penalty=frequency_penalty,\\n        presence_penalty=presence_penalty,\\n    )\\n    return response\\n\\ndef summarize_comments(comments):\\n    full_summary = _batch_llm_calls(comments, \\n                                    suffix=\"Tl;dr\", \\n                                    max_tokens=275)\\n    return full_summary\\n\\ndef semantic_analysis(full_summary):\\n    semantics = _batch_llm_calls([\\'\\'.join(full_summary)], \\n                                 prefix=\"Decide whether the following text\\'s sentiment is positive, neutral, or negative\", \\n                                 max_tokens=500, \\n                                 top_p=1.0,\\n                                 frequency_penalty=0.5, \\n                                 temperature=0, \\n                                 presence_penalty=0.0)\\n    return semantics[0]\\n\\ndef keywords_extraction(full_summary):\\n    all_keywords = _batch_llm_calls([\\'\\'.join(full_summary)], \\n                                    prefix=\"Extract the keywords from the following text\", \\n                                    max_tokens=60, \\n                                    temperature=0.4, \\n                                    frequency_penalty=0.9, \\n                                    presence_penalty=0.0)\\n    return all_keywords\\n\\ndef _batch_llm_calls(comment_chunks,\\n                     temperature = 0.7, \\n                     max_tokens = 312,\\n                     top_p = 1.0, \\n                     frequency_penalty = 0.0, \\n                     presence_penalty = 1, \\n                     prefix = \\'\\',\\n                     suffix = \\'\\'):\\n    \\n    full_result = []\\n    for chunk in comment_chunks:\\n        part_result = call_davinci_003(prompt = f\"\"\"\\n                                        {chunk}\\n                                    \"\"\", \\n                                    temperature = temperature, \\n                                    max_tokens=max_tokens,\\n                                    top_p=top_p,\\n                                    frequency_penalty = frequency_penalty,\\n                                    presence_penalty = presence_penalty,\\n                                    prefix = prefix,\\n                                    suffix = suffix)\\n\\n    \\n    full_result.append(part_result[\"choices\"][0][\"text\"].strip())\\n    return full_result\\n\\nif __name__== \"__main__\":\\n    comments = comment_workflow(video_id = sys.argv[1])\\n    summary = summarize_comments(comments)\\n    print(\\'-------------SUMMARY-------------\\')\\n    print(\\'\\'.join(summary))\\n\\n\\n    print(\\'-------------SEMANTICS-------------\\')\\n    semnatics = semantic_analysis(summary)\\n    print(semnatics)\\n\\n    print(\\'-------------KEYWORDS-------------\\')\\n    keywords = keywords_extraction(summary)\\n    print(keywords)\\n \\n    ', start_char_idx=None, end_char_idx=None, text_template='{metadata_str}\\n\\n{content}', metadata_template='{key}: {value}', metadata_seperator='\\n'), Document(id_='e44521e065e0ee24b292f5728512cc9519c82289', embedding=None, metadata={'file_path': 'list_youtube_comments.py', 'file_name': 'list_youtube_comments.py'}, excluded_embed_metadata_keys=[], excluded_llm_metadata_keys=[], relationships={}, hash='4e97be0b2cbccbdba5671c1e641fdce2ee8dd29e2aa5a3a0b024d1fa76fa6f4c', text='__author__ = \\'deepika\\'\\n\\n\"\"\"\\nFunction: to fetch the youtube comments given a youtube video id\\n\"\"\"\\nimport os\\nfrom settings import DEVELOPER_KEY, YOUTUBE_SERVICE_NAME, YOUTUBE_API_VERSION, DA_VINCI_MODEL_LIMITATION\\n\\nimport googleapiclient.discovery\\nimport json\\n\\ndef search_comments(youtube, video_id):\\n    #print(\"finding comments for the video id: \" + video_id)\\n    request = youtube.commentThreads().list(\\n        part=\"snippet\",\\n        videoId=video_id,\\n    )\\n    response = request.execute()\\n    return response\\n\\ndef build_youtube_service():\\n    return googleapiclient.discovery.build(\\n                YOUTUBE_SERVICE_NAME,\\n                YOUTUBE_API_VERSION, \\n                developerKey = DEVELOPER_KEY)\\n\\n\"\"\"\\n#Davinci model support 4000 token which is approx 3125 words \\n# which is approx  approximately 11 pages.\\n\"\"\"\\ndef extract_data(raw_data = \\'\\'):\\n\\n    # uncomment only if you want to test the JSON parsing of youtube comments sections\\n    # on the sample file or if you want to save on youtube API calls.  \\n    \"\"\"\\n    comment_file_data = open(\\'sampleyoutubecomment.json\\')\\n    raw_data = json.load(comment_file_data)\\n    \"\"\"\\n\\n    running_data = \\'\\'\\n    running_data_count = 0\\n\\n    comments = []\\n\\n    for item in raw_data[\\'items\\']:\\n        comment = item[\\'snippet\\'][\\'topLevelComment\\'][\\'snippet\\'][\\'textOriginal\\']\\n        count = len(comment.split())\\n\\n        if running_data_count + count < DA_VINCI_MODEL_LIMITATION:\\n            running_data += comment\\n            running_data += \\' \\'\\n            running_data_count += count\\n        else:\\n            #add the collection of comments to the list\\n            comments.append(running_data)\\n\\n            #reset the data/collection\\n            running_data = comment\\n            running_data_count = count\\n\\n    #Add the last chunk of data if any\\n    if len(running_data) > 0:\\n        comments.append(running_data)\\n\\n    return comments\\n\\ndef comment_workflow(video_id):\\n    youtube = build_youtube_service()\\n    raw_data = search_comments(youtube, video_id)\\n    comments = extract_data(raw_data)\\n    return comments\\n\\n#Uncomment only if you want to test the JSON parsing of youtube comments sections\\n#if __name__ == \"__main__\":\\n#    extract_data()', start_char_idx=None, end_char_idx=None, text_template='{metadata_str}\\n\\n{content}', metadata_template='{key}: {value}', metadata_seperator='\\n'), Document(id_='25d6c9378c6ad7dced59f97aafa740e48cf86672', embedding=None, metadata={'file_path': 'list_youtube_test.oy', 'file_name': 'list_youtube_test.oy'}, excluded_embed_metadata_keys=[], excluded_llm_metadata_keys=[], relationships={}, hash='6a410fa6913e1db3bfa74bbe15969004e45fa73f4c38c81c157742c8e9b00985', text=\"import unittest\\nfrom unittest.mock import Mock, patch\\nimport sys\\nimport io\\nfrom your_script_file_name import search_comments, build_youtube_service, extract_data\\n\\nclass TestYouTubeCommentFetcher(unittest.TestCase):\\n\\n    def setUp(self):\\n        self.mock_youtube = Mock()\\n\\n    @patch('googleapiclient.discovery.build', return_value=Mock(commentThreads=Mock(list=Mock(return_value={'items': []}))))\\n    def test_search_comments_empty_response(self, mock_build):\\n        video_id = 'sample_video_id'\\n        response = search_comments(self.mock_youtube, video_id)\\n        self.assertEqual(response, {'items': []})\\n\\n    def test_build_youtube_service(self):\\n        youtube_service = build_youtube_service()\\n        self.assertIsNotNone(youtube_service)\\n\\nif __name__ == '__main__':\\n    unittest.main()\\n\", start_char_idx=None, end_char_idx=None, text_template='{metadata_str}\\n\\n{content}', metadata_template='{key}: {value}', metadata_seperator='\\n'), Document(id_='91eb96af61ff29b0ef45347c5566629d72b68a79', embedding=None, metadata={'file_path': 'requirements.txt', 'file_name': 'requirements.txt'}, excluded_embed_metadata_keys=[], excluded_llm_metadata_keys=[], relationships={}, hash='ecb4623bda37469ec7460200231628c81b5fb740404bb7c244cffc438a8307e2', text='aiohttp==3.8.4\\naiosignal==1.3.1\\nasync-timeout==4.0.2\\nattrs==23.1.0\\nbeautifulsoup4==4.12.2\\ncachetools==5.3.0\\ncertifi==2022.12.7\\ncharset-normalizer==3.1.0\\nfrozenlist==1.3.3\\ngoogle-api-core==2.11.0\\ngoogle-api-python-client==2.86.0\\ngoogle-auth==2.17.3\\ngoogle-auth-httplib2==0.1.0\\ngoogleapis-common-protos==1.59.0\\nhttplib2==0.22.0\\nidna==3.4\\nmultidict==6.0.4\\nopenai==0.27.5\\nprotobuf==4.22.3\\npyasn1==0.5.0\\npyasn1-modules==0.3.0\\npyparsing==3.0.9\\nrequests==2.28.2\\nrsa==4.9\\nsix==1.16.0\\nsoupsieve==2.4.1\\ntqdm==4.65.0\\nuritemplate==4.1.1\\nurllib3==1.26.15\\nyarl==1.9.2\\n', start_char_idx=None, end_char_idx=None, text_template='{metadata_str}\\n\\n{content}', metadata_template='{key}: {value}', metadata_seperator='\\n'), Document(id_='307bcef673d420f1a9da6790bd2f6c2d6260c57f', embedding=None, metadata={'file_path': 'sampleyoutubecomment.json', 'file_name': 'sampleyoutubecomment.json'}, excluded_embed_metadata_keys=[], excluded_llm_metadata_keys=[], relationships={}, hash='edc522ec92a913b7eb5ef44151deeb45133444f441ee72ca9373b7dc0eb7e4f9', text='{\\n    \"kind\":\"youtube#commentThreadListResponse\",\\n    \"etag\":\"6m-t8F-lzVVFw6Ws8REP9hfFruQ\",\\n    \"nextPageToken\":\"QURTSl9pMF9VZF9NaFozYzN4aXJ2V1J6OGVSMG5CZW9oVFUyeFBFZENSeXJHRHhpd0I1SFZ0cE51OG9QRmZxT1NLZEdURTBiNFV0a0tFQkVjaHZYdzY5NHVxTGZtbmcy\",\\n    \"pageInfo\":{\\n       \"totalResults\":20,\\n       \"resultsPerPage\":20\\n    },\\n    \"items\":[\\n       {\\n          \"kind\":\"youtube#commentThread\",\\n          \"etag\":\"G383jGl3Opgax4q0qTUYG-omOXM\",\\n          \"id\":\"UgxXndf2tZA_FJu53ld4AaABAg\",\\n          \"snippet\":{\\n             \"videoId\":\"yVOQLbq3zqQ\",\\n             \"topLevelComment\": {\\n               \"kind\":\"youtube#comment\",\\n               \"etag\":\"eBGi4ojVBnhdAXLh16HcUp30Qqc\",\\n               \"id\":\"UgxXndf2tZA_FJu53ld4AaABAg\",\\n               \"snippet\":{\\n                  \"videoId\":\"yVOQLbq3zqQ\",\\n                  \"textDisplay\":\"The 4 Stages of a Recession listed @ <a href=\\\\\"https://www.youtube.com/watch?v=yVOQLbq3zqQ&amp;t=1m28s\\\\\">1:28</a><br><br>1) Home Sale Collapse - check<br>2) Manufacturing Orders Collapse - check<br>3) Porifts Collapse - check<br>4) Employment Collapse - coming soon<br><br>You can find more analysis from Michael Kantrowitz&#39;s on his HOPE Framework on the Wealthion YouTube Channel in this interview: <a href=\\\\\"https://www.youtube.com/watch?v=IWg-9VKxTw4\\\\\">https://www.youtube.com/watch?v=IWg-9VKxTw4</a>\",\\n                  \"textOriginal\":\"The 4 Stages of a Recession listed @ 1:28\\\\n\\\\n1) Home Sale Collapse - check\\\\n2) Manufacturing Orders Collapse - check\\\\n3) Porifts Collapse - check\\\\n4) Employment Collapse - coming soon\\\\n\\\\nYou can find more analysis from Michael Kantrowitz\\'s on his HOPE Framework on the Wealthion YouTube Channel in this interview: https://www.youtube.com/watch?v=IWg-9VKxTw4\",\\n                  \"authorDisplayName\":\"Reventure Consulting\",\\n                  \"authorProfileImageUrl\":\"https://yt3.ggpht.com/ytc/AGIKgqMMPfVamQWVskOQ3z6OawbFktt2H0zVBACDZvSK=s48-c-k-c0x00ffffff-no-rj\",\\n                  \"authorChannelUrl\":\"http://www.youtube.com/channel/UCVTQunGrE3p7Oq8Owao5y_Q\",\\n                  \"authorChannelId\":{\\n                     \"value\":\"UCVTQunGrE3p7Oq8Owao5y_Q\"\\n                  },\\n                   \"canRate\":true,\\n                   \"viewerRating\":\"none\",\\n                   \"likeCount\":5,\\n                   \"publishedAt\":\"2023-04-28T05:08:32Z\",\\n                   \"updatedAt\":\"2023-04-28T05:37:40Z\"\\n                }\\n             },\\n             \"canReply\":true,\\n             \"totalReplyCount\":0,\\n             \"isPublic\":true\\n          }\\n       },\\n       {\\n          \"kind\":\"youtube#commentThread\",\\n          \"etag\":\"BCU3SYQPo2B6S4Ztlc_sZx9CdZE\",\\n          \"id\":\"UgzSQSjthmmVucSsbWZ4AaABAg\",\\n          \"snippet\":{\\n             \"videoId\":\"yVOQLbq3zqQ\",\\n             \"topLevelComment\":{\\n                \"kind\":\"youtube#comment\",\\n                \"etag\":\"inot_A_N9gufuWqAOIoJ1E97mBI\",\\n                \"id\":\"UgzSQSjthmmVucSsbWZ4AaABAg\",\\n                \"snippet\":{\\n                   \"videoId\":\"yVOQLbq3zqQ\",\\n                   \"textDisplay\":\"This channel along with Adam have been doom and gloom for two years now. Yet Microsoft is doing great, Facebook&#39;s profits are good, Google is fine. The markets are up over 10% YTD.\",\\n                   \"textOriginal\":\"This channel along with Adam have been doom and gloom for two years now. Yet Microsoft is doing great, Facebook\\'s profits are good, Google is fine. The markets are up over 10% YTD.\",\\n                   \"authorDisplayName\":\"MeChannel\",\\n                   \"authorProfileImageUrl\":\"https://yt3.ggpht.com/ytc/AGIKgqP8XAwiVSavr_Es_ef9dS0dh5sYVghO9QIzZw=s48-c-k-c0x00ffffff-no-rj\",\\n                   \"authorChannelUrl\":\"http://www.youtube.com/channel/UC9lfITfxS-SwzJyh9Td2qqQ\",\\n                   \"authorChannelId\":{\\n                      \"value\":\"UC9lfITfxS-SwzJyh9Td2qqQ\"\\n                   },\\n                   \"canRate\":true,\\n                   \"viewerRating\":\"none\",\\n                   \"likeCount\":0,\\n                   \"publishedAt\":\"2023-04-28T06:30:32Z\",\\n                   \"updatedAt\":\"2023-04-28T06:30:32Z\"\\n                }\\n             },\\n             \"canReply\":true,\\n             \"totalReplyCount\":0,\\n             \"isPublic\":true\\n          }\\n       },\\n       {\\n          \"kind\":\"youtube#commentThread\",\\n          \"etag\":\"_qSUaS0bnM75DDTtz7a90sSz4YY\",\\n          \"id\":\"UgwD6SPw2wgKEHblpOl4AaABAg\",\\n          \"snippet\":{\\n             \"videoId\":\"yVOQLbq3zqQ\",\\n             \"topLevelComment\":{\\n                \"kind\":\"youtube#comment\",\\n                \"etag\":\"r0LUsDif4PjN1fIUHuFxwlSCKj8\",\\n                \"id\":\"UgwD6SPw2wgKEHblpOl4AaABAg\",\\n                \"snippet\":{\\n                   \"videoId\":\"yVOQLbq3zqQ\",\\n                   \"textDisplay\":\"Everyone who missed the rally talk about hellish scenarios.\",\\n                   \"textOriginal\":\"Everyone who missed the rally talk about hellish scenarios.\",\\n                   \"authorDisplayName\":\"Yusuf Özarslan\",\\n                   \"authorProfileImageUrl\":\"https://yt3.ggpht.com/ytc/AGIKgqNXnYfDe5x1oCrErnHoZ1rvP5UBnwyOmvHt=s48-c-k-c0x00ffffff-no-rj\",\\n                   \"authorChannelUrl\":\"http://www.youtube.com/channel/UCg4mG-Wr741MHRgYi1_x8Eg\",\\n                   \"authorChannelId\":{\\n                      \"value\":\"UCg4mG-Wr741MHRgYi1_x8Eg\"\\n                   },\\n                   \"canRate\":true,\\n                   \"viewerRating\":\"none\",\\n                   \"likeCount\":0,\\n                   \"publishedAt\":\"2023-04-28T06:30:25Z\",\\n                   \"updatedAt\":\"2023-04-28T06:30:25Z\"\\n                }\\n             },\\n             \"canReply\":true,\\n             \"totalReplyCount\":0,\\n             \"isPublic\":true\\n          }\\n       },\\n       {\\n          \"kind\":\"youtube#commentThread\",\\n          \"etag\":\"3xcH9QkvSuqCHtXXwDZTYuBQqEQ\",\\n          \"id\":\"Ugz7_GYEZaI2wBa1EYF4AaABAg\",\\n          \"snippet\":{\\n             \"videoId\":\"yVOQLbq3zqQ\",\\n             \"topLevelComment\":{\\n                \"kind\":\"youtube#comment\",\\n                \"etag\":\"0FX80d2rei-UmowlWH3vNCluGhI\",\\n                \"id\":\"Ugz7_GYEZaI2wBa1EYF4AaABAg\",\\n                \"snippet\":{\\n                   \"videoId\":\"yVOQLbq3zqQ\",\\n                   \"textDisplay\":\"This was a well- presented discussion. Thanks\",\\n                   \"textOriginal\":\"This was a well- presented discussion. Thanks\",\\n                   \"authorDisplayName\":\"G G\",\\n                   \"authorProfileImageUrl\":\"https://yt3.ggpht.com/ytc/AGIKgqOWASU2KK9boDNVYMPP-q7fNDQupZvrrHjsvw=s48-c-k-c0x00ffffff-no-rj\",\\n                   \"authorChannelUrl\":\"http://www.youtube.com/channel/UCyAW9uNsmXCSpaBISFfWfWQ\",\\n                   \"authorChannelId\":{\\n                      \"value\":\"UCyAW9uNsmXCSpaBISFfWfWQ\"\\n                   },\\n                   \"canRate\":true,\\n                   \"viewerRating\":\"none\",\\n                   \"likeCount\":0,\\n                   \"publishedAt\":\"2023-04-28T06:26:50Z\",\\n                   \"updatedAt\":\"2023-04-28T06:26:50Z\"\\n                }\\n             },\\n             \"canReply\":true,\\n             \"totalReplyCount\":0,\\n             \"isPublic\":true\\n          }\\n       },\\n       {\\n          \"kind\":\"youtube#commentThread\",\\n          \"etag\":\"-TUnYnPe59Tlm8AkMHr_Dfb5HHY\",\\n          \"id\":\"UgxnsKqEcrNo-GT_Wdx4AaABAg\",\\n          \"snippet\":{\\n             \"videoId\":\"yVOQLbq3zqQ\",\\n             \"topLevelComment\":{\\n                \"kind\":\"youtube#comment\",\\n                \"etag\":\"j0m6O8lTFObcBs3mMhHKKz-h6D0\",\\n                \"id\":\"UgxnsKqEcrNo-GT_Wdx4AaABAg\",\\n                \"snippet\":{\\n                   \"videoId\":\"yVOQLbq3zqQ\",\\n                   \"textDisplay\":\"Ultimately, &quot;The Federal Reserve&quot; loosed the Kraken of free money to the markets -- banks and large companies on the Street, which ended up in a free for all of massive spending toward investment/growth; every aspect of the US Economy became hyperinflated with near 0 percent interest rates, culminating in asset price escalations far outstripping overall economic prosperity and incomes, while credit expansion hit virtually every segment of the consumer market, driving up profits for companies to obscene and unsustainable (irrational) levels... but levels everyone became addicted to, and therefore loaded up on debt expecting well into the future.<br><br>The loosers were &quot;SAVERS&quot; and people starting out in life, who couldn&#39;t afford the educations, the housing, the cars, having children, but many who bought anyway.  And now we&#39;ve got all these bubbles on the verge of popping -- commercial real estate included.<br><br>We&#39;re also facing a period of divided government, with a political party that is anathema to assisting people in need on a philosophical basis controlling The US House -- and virtually ensuring a constant lethargy in government reaction to softening the blow of bubble popping economics for the vast majority of us.<br><br>Ultimately, these bubbles need to pop.  Establishing rational profit expectation in the markets is also essential -- as historically, companies rarely expected to make more than 5-7% returns year over year, and their CEO&#39;s made far lower pay packages compared to workers.  And SAVERS were rewarded with interest baring accounts, which helped middle class families save in secure accounts for college and house downpayments (in an affordable asset class environment -- which this one is not).<br><br>The current set of paths we are likely to see unfold over the next 18-36 months will have a lot of ugliness attached to them -- perhaps eclipsing even great depression level readjustments in some market segments, and certainly infecting markets the world over.  This is before factoring in new labor saving anomalies like AI and the burgeoning field of workplace robotics and expert systems that will wipe away whole segments of jobs that once paid the best wages (software devs, system admins, management persons, etc)...\",\\n                   \"textOriginal\":\"Ultimately, \\\\\"The Federal Reserve\\\\\" loosed the Kraken of free money to the markets -- banks and large companies on the Street, which ended up in a free for all of massive spending toward investment/growth; every aspect of the US Economy became hyperinflated with near 0 percent interest rates, culminating in asset price escalations far outstripping overall economic prosperity and incomes, while credit expansion hit virtually every segment of the consumer market, driving up profits for companies to obscene and unsustainable (irrational) levels... but levels everyone became addicted to, and therefore loaded up on debt expecting well into the future.\\\\n\\\\nThe loosers were \\\\\"SAVERS\\\\\" and people starting out in life, who couldn\\\\\\\\\\'t afford the educations, the housing, the cars, having children, but many who bought anyway.  And now we\\\\\\\\\\'ve got all these bubbles on the verge of popping -- commercial real estate included.\\\\n\\\\nWe\\\\\\\\\\'re also facing a period of divided government, with a political party that is anathema to assisting people in need on a philosophical basis controlling The US House -- and virtually ensuring a constant lethargy in government reaction to softening the blow of bubble popping economics for the vast majority of us.\\\\n\\\\nUltimately, these bubbles need to pop.  Establishing rational profit expectation in the markets is also essential -- as historically, companies rarely expected to make more than 5-7% returns year over year, and their CEO\\\\\\\\\\'s made far lower pay packages compared to workers.  And SAVERS were rewarded with interest baring accounts, which helped middle class families save in secure accounts for college and house downpayments (in an affordable asset class environment -- which this one is not).\\\\n\\\\nThe current set of paths we are likely to see unfold over the next 18-36 months will have a lot of ugliness attached to them -- perhaps eclipsing even great depression level readjustments in some market segments, and certainly infecting markets the world over.  This is before factoring in new labor saving anomalies like AI and the burgeoning field of workplace robotics and expert systems that will wipe away whole segments of jobs that once paid the best wages (software devs, system admins, management persons, etc)...\",\\n                   \"authorDisplayName\":\"Dave Hall\",\\n                   \"authorProfileImageUrl\":\"https://yt3.ggpht.com/ytc/AGIKgqP7uH7ylOd6_oVdSFfT2fTsT4ZVgTWzJGBk9p3mFA=s48-c-k-c0x00ffffff-no-rj\",\\n                   \"authorChannelUrl\":\"http://www.youtube.com/channel/UCYIBUDKTdWFkM3S8S7z4mlg\",\\n                   \"authorChannelId\":{\\n                      \"value\":\"UCYIBUDKTdWFkM3S8S7z4mlg\"\\n                   },\\n                   \"canRate\":true,\\n                   \"viewerRating\":\"none\",\\n                   \"likeCount\":0,\\n                   \"publishedAt\":\"2023-04-28T06:25:42Z\",\\n                   \"updatedAt\":\"2023-04-28T06:28:25Z\"\\n                }\\n             },\\n             \"canReply\":true,\\n             \"totalReplyCount\":0,\\n             \"isPublic\":true\\n          }\\n       },\\n       {\\n          \"kind\":\"youtube#commentThread\",\\n          \"etag\":\"v0fBvB9SSRNzYBw2YGtn_4EELAQ\",\\n          \"id\":\"Ugx1q-kZ_jT5A7Gpq6h4AaABAg\",\\n          \"snippet\":{\\n             \"videoId\":\"yVOQLbq3zqQ\",\\n             \"topLevelComment\":{\\n                \"kind\":\"youtube#comment\",\\n                \"etag\":\"5j67ELeMHp07fbj89OnFFpMler0\",\\n                \"id\":\"Ugx1q-kZ_jT5A7Gpq6h4AaABAg\",\\n                \"snippet\":{\\n                   \"videoId\":\"yVOQLbq3zqQ\",\\n                   \"textDisplay\":\"Agree with the timeline of events.\",\\n                   \"textOriginal\":\"Agree with the timeline of events.\",\\n                   \"authorDisplayName\":\"Brian Woodrow\",\\n                   \"authorProfileImageUrl\":\"https://yt3.ggpht.com/ytc/AGIKgqMC6RufYT_brIzR8_6H9m0P31qCTDMe2W2y-w=s48-c-k-c0x00ffffff-no-rj\",\\n                   \"authorChannelUrl\":\"http://www.youtube.com/channel/UC71XbT5G_J8elPB-QhrbD3w\",\\n                   \"authorChannelId\":{\\n                      \"value\":\"UC71XbT5G_J8elPB-QhrbD3w\"\\n                   },\\n                   \"canRate\":true,\\n                   \"viewerRating\":\"none\",\\n                   \"likeCount\":0,\\n                   \"publishedAt\":\"2023-04-28T06:22:31Z\",\\n                   \"updatedAt\":\"2023-04-28T06:22:31Z\"\\n                }\\n             },\\n             \"canReply\":true,\\n             \"totalReplyCount\":0,\\n             \"isPublic\":true\\n          }\\n       },\\n       {\\n          \"kind\":\"youtube#commentThread\",\\n          \"etag\":\"6fZhk0p69EejBy_lj0VlVP_L5L4\",\\n          \"id\":\"UgxBrS5pSx1HzoqfVlR4AaABAg\",\\n          \"snippet\":{\\n             \"videoId\":\"yVOQLbq3zqQ\",\\n             \"topLevelComment\":{\\n                \"kind\":\"youtube#comment\",\\n                \"etag\":\"P8cBoPcwCXgOTlYofVCVMiHGujk\",\\n                \"id\":\"UgxBrS5pSx1HzoqfVlR4AaABAg\",\\n                \"snippet\":{\\n                   \"videoId\":\"yVOQLbq3zqQ\",\\n                   \"textDisplay\":\"Intel just lost the biggest loss in history, 10 fortune 500 companies laying of 100&#39;s in the next 30 days. Housing is slowing it&#39;s begun\",\\n                   \"textOriginal\":\"Intel just lost the biggest loss in history, 10 fortune 500 companies laying of 100\\'s in the next 30 days. Housing is slowing it\\'s begun\",\\n                   \"authorDisplayName\":\"David Hibbs\",\\n                   \"authorProfileImageUrl\":\"https://yt3.ggpht.com/ytc/AGIKgqMlq1u_jFwquN4q7k39dWQxRXi84ZWNY0y4XS6WmXF5U8eiP_Gkvwsx2qdvYzJz=s48-c-k-c0x00ffffff-no-rj\",\\n                   \"authorChannelUrl\":\"http://www.youtube.com/channel/UCHuu7uiTecS6Wk0C2THcgXg\",\\n                   \"authorChannelId\":{\\n                      \"value\":\"UCHuu7uiTecS6Wk0C2THcgXg\"\\n                   },\\n                   \"canRate\":true,\\n                   \"viewerRating\":\"none\",\\n                   \"likeCount\":0,\\n                   \"publishedAt\":\"2023-04-28T06:22:25Z\",\\n                   \"updatedAt\":\"2023-04-28T06:22:25Z\"\\n                }\\n             },\\n             \"canReply\":true,\\n             \"totalReplyCount\":0,\\n             \"isPublic\":true\\n          }\\n       },\\n       {\\n          \"kind\":\"youtube#commentThread\",\\n          \"etag\":\"kcVOowy-Wg-hgEoDfpKgjKIoFe0\",\\n          \"id\":\"Ugzt-h_Krb-5CuWdcnJ4AaABAg\",\\n          \"snippet\":{\\n             \"videoId\":\"yVOQLbq3zqQ\",\\n             \"topLevelComment\":{\\n                \"kind\":\"youtube#comment\",\\n                \"etag\":\"4Y1IOmO5i62s4U4CZOu4k7UPX6g\",\\n                \"id\":\"Ugzt-h_Krb-5CuWdcnJ4AaABAg\",\\n                \"snippet\":{\\n                   \"videoId\":\"yVOQLbq3zqQ\",\\n                   \"textDisplay\":\"Great conversation, gentlemen!\",\\n                   \"textOriginal\":\"Great conversation, gentlemen!\",\\n                   \"authorDisplayName\":\"Tess\",\\n                   \"authorProfileImageUrl\":\"https://yt3.ggpht.com/ytc/AGIKgqPU2URfPs9WUvNOSqcal5dcI05cRkZ8XBRABMtF9A=s48-c-k-c0x00ffffff-no-rj\",\\n                   \"authorChannelUrl\":\"http://www.youtube.com/channel/UCOgTFOpoKSi2nt7VJfuEnww\",\\n                   \"authorChannelId\":{\\n                      \"value\":\"UCOgTFOpoKSi2nt7VJfuEnww\"\\n                   },\\n                   \"canRate\":true,\\n                   \"viewerRating\":\"none\",\\n                   \"likeCount\":0,\\n                   \"publishedAt\":\"2023-04-28T06:20:28Z\",\\n                   \"updatedAt\":\"2023-04-28T06:20:28Z\"\\n                }\\n             },\\n             \"canReply\":true,\\n             \"totalReplyCount\":0,\\n             \"isPublic\":true\\n          }\\n       },\\n       {\\n          \"kind\":\"youtube#commentThread\",\\n          \"etag\":\"VeVLhjmbXW1Sw1FqN0pSMsj81dk\",\\n          \"id\":\"UgzD23yYJTMt8HlH3kF4AaABAg\",\\n          \"snippet\":{\\n             \"videoId\":\"yVOQLbq3zqQ\",\\n             \"topLevelComment\":{\\n                \"kind\":\"youtube#comment\",\\n                \"etag\":\"X54q29MGRsLzyZu_sHiZzmj8kXY\",\\n                \"id\":\"UgzD23yYJTMt8HlH3kF4AaABAg\",\\n                \"snippet\":{\\n                   \"videoId\":\"yVOQLbq3zqQ\",\\n                   \"textDisplay\":\"The fact is that BTC symbolizes the future of cryptocurrency, and traders are wondering if now is the best moment to trade, I feel you should examine the situation more closely before jumping to any conclusion. BTC&#39;s price has been fluctuating over the previous days, signaling that the market has become unstable and that is it impossible to anticipate whether it will go bearish or bullish. Others are patient, while others continue to trade with no risk. It all depends on the pattern you&#39;re trading and the source of your signal, i earned 27BTC starting with 3.6 BTC in just a few weeks implementing Antonia White daily trades. I managed to collect more than tips and tricks.\",\\n                   \"textOriginal\":\"The fact is that BTC symbolizes the future of cryptocurrency, and traders are wondering if now is the best moment to trade, I feel you should examine the situation more closely before jumping to any conclusion. BTC\\'s price has been fluctuating over the previous days, signaling that the market has become unstable and that is it impossible to anticipate whether it will go bearish or bullish. Others are patient, while others continue to trade with no risk. It all depends on the pattern you\\'re trading and the source of your signal, i earned 27BTC starting with 3.6 BTC in just a few weeks implementing Antonia White daily trades. I managed to collect more than tips and tricks.\",\\n                   \"authorDisplayName\":\"Michele J. Steffey\",\\n                   \"authorProfileImageUrl\":\"https://yt3.ggpht.com/1TdLQvIHmpd-coazuRn0MPXHUsfemKeoKzYtN1CcnD_WMTegpMArhlZ0fZV7tw7Ow84Z5tunyQ=s48-c-k-c0x00ffffff-no-rj\",\\n                   \"authorChannelUrl\":\"http://www.youtube.com/channel/UCwL49Bcc55Mwxl2bricnxKA\",\\n                   \"authorChannelId\":{\\n                      \"value\":\"UCwL49Bcc55Mwxl2bricnxKA\"\\n                   },\\n                   \"canRate\":true,\\n                   \"viewerRating\":\"none\",\\n                   \"likeCount\":1,\\n                   \"publishedAt\":\"2023-04-28T06:19:22Z\",\\n                   \"updatedAt\":\"2023-04-28T06:19:22Z\"\\n                }\\n             },\\n             \"canReply\":true,\\n             \"totalReplyCount\":5,\\n             \"isPublic\":true\\n          }\\n       },\\n       {\\n          \"kind\":\"youtube#commentThread\",\\n          \"etag\":\"KTRJMUJHfpIbUPjMSuWwNSxEIO0\",\\n          \"id\":\"UgzCoAF9fY3m0ULpOjF4AaABAg\",\\n          \"snippet\":{\\n             \"videoId\":\"yVOQLbq3zqQ\",\\n             \"topLevelComment\":{\\n                \"kind\":\"youtube#comment\",\\n                \"etag\":\"dNurf273qTiZbtlmWKly-bKfeQw\",\\n                \"id\":\"UgzCoAF9fY3m0ULpOjF4AaABAg\",\\n                \"snippet\":{\\n                   \"videoId\":\"yVOQLbq3zqQ\",\\n                   \"textDisplay\":\"Oh please, where were these &quot;experts&quot; in 2021 when the market peaked. Oh wait, somehow none of them noticed the price increases and insanity in the stock market? Now all of them are coming out of every hole to announce what already happened. They were clueless in 2021 and they are still clueless in 2023.\",\\n                   \"textOriginal\":\"Oh please, where were these \\\\\"experts\\\\\" in 2021 when the market peaked. Oh wait, somehow none of them noticed the price increases and insanity in the stock market? Now all of them are coming out of every hole to announce what already happened. They were clueless in 2021 and they are still clueless in 2023.\",\\n                   \"authorDisplayName\":\"Forrest Gump\",\\n                   \"authorProfileImageUrl\":\"https://yt3.ggpht.com/ytc/AGIKgqPldpNPCrrFoEQWjOA74Xm2ri-VFTs02_hNz09E7g=s48-c-k-c0x00ffffff-no-rj\",\\n                   \"authorChannelUrl\":\"http://www.youtube.com/channel/UCeCdVQQO2q2EVuAPGyVupYQ\",\\n                   \"authorChannelId\":{\\n                      \"value\":\"UCeCdVQQO2q2EVuAPGyVupYQ\"\\n                   },\\n                   \"canRate\":true,\\n                   \"viewerRating\":\"none\",\\n                   \"likeCount\":0,\\n                   \"publishedAt\":\"2023-04-28T06:18:36Z\",\\n                   \"updatedAt\":\"2023-04-28T06:19:28Z\"\\n                }\\n             },\\n             \"canReply\":true,\\n             \"totalReplyCount\":0,\\n             \"isPublic\":true\\n          }\\n       },\\n       {\\n          \"kind\":\"youtube#commentThread\",\\n          \"etag\":\"klxcfwzvWJONa2tYiPK5e244ROY\",\\n          \"id\":\"UgxxOrZJkPLm41sSakJ4AaABAg\",\\n          \"snippet\":{\\n             \"videoId\":\"yVOQLbq3zqQ\",\\n             \"topLevelComment\":{\\n                \"kind\":\"youtube#comment\",\\n                \"etag\":\"RsXU4w9IfBcXhRkscVR5ZHU7klM\",\\n                \"id\":\"UgxxOrZJkPLm41sSakJ4AaABAg\",\\n                \"snippet\":{\\n                   \"videoId\":\"yVOQLbq3zqQ\",\\n                   \"textDisplay\":\"Unemployment may not rise like a typical &quot;hard landing&quot; because of the large-scale retirements of the Baby Boomers.  Nobody knows what will happen of course but we are in a time of peak retirements for the peak birth years 1955-1960.  Our recession may be hard but much more so on financial and housing assets but not employment.\",\\n                   \"textOriginal\":\"Unemployment may not rise like a typical \\\\\"hard landing\\\\\" because of the large-scale retirements of the Baby Boomers.  Nobody knows what will happen of course but we are in a time of peak retirements for the peak birth years 1955-1960.  Our recession may be hard but much more so on financial and housing assets but not employment.\",\\n                   \"authorDisplayName\":\"Testy Terminal\",\\n                   \"authorProfileImageUrl\":\"https://yt3.ggpht.com/Zcxcs-h1QGaNAOwXUHmUH52teLVA-_BckpZLfuCMp7kH-uPjaeaptaoWgNdGslx6z_YwzMxGuQ=s48-c-k-c0x00ffffff-no-rj\",\\n                   \"authorChannelUrl\":\"http://www.youtube.com/channel/UCCElJM9K4C7EFhcB8ccC6_A\",\\n                   \"authorChannelId\":{\\n                      \"value\":\"UCCElJM9K4C7EFhcB8ccC6_A\"\\n                   },\\n                   \"canRate\":true,\\n                   \"viewerRating\":\"none\",\\n                   \"likeCount\":0,\\n                   \"publishedAt\":\"2023-04-28T06:16:59Z\",\\n                   \"updatedAt\":\"2023-04-28T06:16:59Z\"\\n                }\\n             },\\n             \"canReply\":true,\\n             \"totalReplyCount\":0,\\n             \"isPublic\":true\\n          }\\n       },\\n       {\\n          \"kind\":\"youtube#commentThread\",\\n          \"etag\":\"ici42bIJT-Xvzu70VFSKaFhPtdo\",\\n          \"id\":\"UgzqjXGFwvw_SJ6S2Hh4AaABAg\",\\n          \"snippet\":{\\n             \"videoId\":\"yVOQLbq3zqQ\",\\n             \"topLevelComment\":{\\n                \"kind\":\"youtube#comment\",\\n                \"etag\":\"HchGpptFLQQX2ErpzdR96t7puTs\",\\n                \"id\":\"UgzqjXGFwvw_SJ6S2Hh4AaABAg\",\\n                \"snippet\":{\\n                   \"videoId\":\"yVOQLbq3zqQ\",\\n                   \"textDisplay\":\"Fear is not becoming of God&#39;s children.\",\\n                   \"textOriginal\":\"Fear is not becoming of God\\'s children.\",\\n                   \"authorDisplayName\":\"Jeremy Chappelle-Williams\",\\n                   \"authorProfileImageUrl\":\"https://yt3.ggpht.com/ytc/AGIKgqNx_P3h2WDU0xLNo4MLvNIR23GIgpPZvwkjrQV6jQ=s48-c-k-c0x00ffffff-no-rj\",\\n                   \"authorChannelUrl\":\"http://www.youtube.com/channel/UCFjGj9A6HmisqEHeaDishUw\",\\n                   \"authorChannelId\":{\\n                      \"value\":\"UCFjGj9A6HmisqEHeaDishUw\"\\n                   },\\n                   \"canRate\":true,\\n                   \"viewerRating\":\"none\",\\n                   \"likeCount\":0,\\n                   \"publishedAt\":\"2023-04-28T06:16:57Z\",\\n                   \"updatedAt\":\"2023-04-28T06:16:57Z\"\\n                }\\n             },\\n             \"canReply\":true,\\n             \"totalReplyCount\":0,\\n             \"isPublic\":true\\n          }\\n       },\\n       {\\n          \"kind\":\"youtube#commentThread\",\\n          \"etag\":\"dhLS-kSN1ASejndlmrGJK8EQ-jY\",\\n          \"id\":\"Ugw3BSa-WQoGRQUg3kd4AaABAg\",\\n          \"snippet\":{\\n             \"videoId\":\"yVOQLbq3zqQ\",\\n             \"topLevelComment\":{\\n                \"kind\":\"youtube#comment\",\\n                \"etag\":\"ZaMRtDIW3WedcNrFgj9cCg0xRUI\",\\n                \"id\":\"Ugw3BSa-WQoGRQUg3kd4AaABAg\",\\n                \"snippet\":{\\n                   \"videoId\":\"yVOQLbq3zqQ\",\\n                   \"textDisplay\":\"Glad to get an expert&#39;s guess on when the stock market will tank. I want to buy some SPY Put options, or perhaps individual companies, but you have to time them right.\",\\n                   \"textOriginal\":\"Glad to get an expert\\'s guess on when the stock market will tank. I want to buy some SPY Put options, or perhaps individual companies, but you have to time them right.\",\\n                   \"authorDisplayName\":\"Gerard Di Cairano\",\\n                   \"authorProfileImageUrl\":\"https://yt3.ggpht.com/ytc/AGIKgqPhAGGcHX93Boij-qazMh4q5yuclDZXUis2Tg=s48-c-k-c0x00ffffff-no-rj\",\\n                   \"authorChannelUrl\":\"http://www.youtube.com/channel/UCoayDxChRHDGO16XZlR4sAQ\",\\n                   \"authorChannelId\":{\\n                      \"value\":\"UCoayDxChRHDGO16XZlR4sAQ\"\\n                   },\\n                   \"canRate\":true,\\n                   \"viewerRating\":\"none\",\\n                   \"likeCount\":0,\\n                   \"publishedAt\":\"2023-04-28T06:16:08Z\",\\n                   \"updatedAt\":\"2023-04-28T06:16:08Z\"\\n                }\\n             },\\n             \"canReply\":true,\\n             \"totalReplyCount\":0,\\n             \"isPublic\":true\\n          }\\n       },\\n       {\\n          \"kind\":\"youtube#commentThread\",\\n          \"etag\":\"IyTBja7YW1xVQA8YW2m3ok5OM68\",\\n          \"id\":\"Ugw07wgvSsl6qEqYgTp4AaABAg\",\\n          \"snippet\":{\\n             \"videoId\":\"yVOQLbq3zqQ\",\\n             \"topLevelComment\":{\\n                \"kind\":\"youtube#comment\",\\n                \"etag\":\"w1mnrnQdhb2cz5MUiu69P-EFmbQ\",\\n                \"id\":\"Ugw07wgvSsl6qEqYgTp4AaABAg\",\\n                \"snippet\":{\\n                   \"videoId\":\"yVOQLbq3zqQ\",\\n                   \"textDisplay\":\"Chicken little! Yeah that&#39;s who you remind me of.\",\\n                   \"textOriginal\":\"Chicken little! Yeah that\\'s who you remind me of.\",\\n                   \"authorDisplayName\":\"Tou Foyxp\",\\n                   \"authorProfileImageUrl\":\"https://yt3.ggpht.com/ytc/AGIKgqNVq0Poz_XoO3cX25ZzM9Zg1bNWDszqisOgTd6bm67Rv5f59ohwOZzvQBQ4PNYE=s48-c-k-c0x00ffffff-no-rj\",\\n                   \"authorChannelUrl\":\"http://www.youtube.com/channel/UCrzQaybtTqgvM8P4mozaKfg\",\\n                   \"authorChannelId\":{\\n                      \"value\":\"UCrzQaybtTqgvM8P4mozaKfg\"\\n                   },\\n                   \"canRate\":true,\\n                   \"viewerRating\":\"none\",\\n                   \"likeCount\":0,\\n                   \"publishedAt\":\"2023-04-28T06:15:54Z\",\\n                   \"updatedAt\":\"2023-04-28T06:15:54Z\"\\n                }\\n             },\\n             \"canReply\":true,\\n             \"totalReplyCount\":0,\\n             \"isPublic\":true\\n          }\\n       },\\n       {\\n          \"kind\":\"youtube#commentThread\",\\n          \"etag\":\"Xq1CH086a45oGQGCsl3iewXgsLY\",\\n          \"id\":\"UgwLV4OMgRL_gfLfIyZ4AaABAg\",\\n          \"snippet\":{\\n             \"videoId\":\"yVOQLbq3zqQ\",\\n             \"topLevelComment\":{\\n                \"kind\":\"youtube#comment\",\\n                \"etag\":\"xamTRaHIE7MzWtA19lHY8f4oIJQ\",\\n                \"id\":\"UgwLV4OMgRL_gfLfIyZ4AaABAg\",\\n                \"snippet\":{\\n                   \"videoId\":\"yVOQLbq3zqQ\",\\n                   \"textDisplay\":\"STOP TALKING NONSENSE. house AND car prices went up A SMALL AMOUNT AND ONLY BRIEFLY DUE TO TAX SEASON, LIKE IT DOES EVERY YEAR. things are on their way back down, its just a slow steady kind of thing which will take at least a year for car prices and at least 3 years for housing prices.\",\\n                   \"textOriginal\":\"STOP TALKING NONSENSE. house AND car prices went up A SMALL AMOUNT AND ONLY BRIEFLY DUE TO TAX SEASON, LIKE IT DOES EVERY YEAR. things are on their way back down, its just a slow steady kind of thing which will take at least a year for car prices and at least 3 years for housing prices.\",\\n                   \"authorDisplayName\":\"..just me\",\\n                   \"authorProfileImageUrl\":\"https://yt3.ggpht.com/_uTdAhQBK7ofjfN2Ik7iXGGVUwSljQIDKWEn-SfNzLdZj4zqm_K2qkEybp6Kf9Gt3a9rTSioVQ=s48-c-k-c0x00ffffff-no-rj\",\\n                   \"authorChannelUrl\":\"http://www.youtube.com/channel/UC0E816E8BJmnWYZp7igapXA\",\\n                   \"authorChannelId\":{\\n                      \"value\":\"UC0E816E8BJmnWYZp7igapXA\"\\n                   },\\n                   \"canRate\":true,\\n                   \"viewerRating\":\"none\",\\n                   \"likeCount\":0,\\n                   \"publishedAt\":\"2023-04-28T06:15:12Z\",\\n                   \"updatedAt\":\"2023-04-28T06:15:12Z\"\\n                }\\n             },\\n             \"canReply\":true,\\n             \"totalReplyCount\":0,\\n             \"isPublic\":true\\n          }\\n       },\\n       {\\n          \"kind\":\"youtube#commentThread\",\\n          \"etag\":\"Z42DdxiOiSbpMmdWYtX0GGnT5iQ\",\\n          \"id\":\"UgwyfpWiMcCFPPlWqt94AaABAg\",\\n          \"snippet\":{\\n             \"videoId\":\"yVOQLbq3zqQ\",\\n             \"topLevelComment\":{\\n                \"kind\":\"youtube#comment\",\\n                \"etag\":\"FUpP9YujI3VNkqfQr8fje7fcfIY\",\\n                \"id\":\"UgwyfpWiMcCFPPlWqt94AaABAg\",\\n                \"snippet\":{\\n                   \"videoId\":\"yVOQLbq3zqQ\",\\n                   \"textDisplay\":\"Black Friday 2023 will be the best in decades .  Massive sales everywhere.  It might even come sooner  😂\",\\n                   \"textOriginal\":\"Black Friday 2023 will be the best in decades .  Massive sales everywhere.  It might even come sooner  😂\",\\n                   \"authorDisplayName\":\"koukimonzta\",\\n                   \"authorProfileImageUrl\":\"https://yt3.ggpht.com/ytc/AGIKgqPteEsyU1KuLYDbTKwc_30FN9psgNgNIIXFQw=s48-c-k-c0x00ffffff-no-rj\",\\n                   \"authorChannelUrl\":\"http://www.youtube.com/channel/UCd9FdhW-X9m2X2PTq1xqCfQ\",\\n                   \"authorChannelId\":{\\n                      \"value\":\"UCd9FdhW-X9m2X2PTq1xqCfQ\"\\n                   },\\n                   \"canRate\":true,\\n                   \"viewerRating\":\"none\",\\n                   \"likeCount\":0,\\n                   \"publishedAt\":\"2023-04-28T06:13:41Z\",\\n                   \"updatedAt\":\"2023-04-28T06:13:41Z\"\\n                }\\n             },\\n             \"canReply\":true,\\n             \"totalReplyCount\":0,\\n             \"isPublic\":true\\n          }\\n       },\\n       {\\n          \"kind\":\"youtube#commentThread\",\\n          \"etag\":\"1m0UBWhRhUVs8Xk1YFP94cAdYQU\",\\n          \"id\":\"Ugxn6GP4KWUrnUuYx454AaABAg\",\\n          \"snippet\":{\\n             \"videoId\":\"yVOQLbq3zqQ\",\\n             \"topLevelComment\":{\\n                \"kind\":\"youtube#comment\",\\n                \"etag\":\"5cSCPvMCSAT6a_0wj00LJxlvWiQ\",\\n                \"id\":\"Ugxn6GP4KWUrnUuYx454AaABAg\",\\n                \"snippet\":{\\n                   \"videoId\":\"yVOQLbq3zqQ\",\\n                   \"textDisplay\":\"thank you both very much!\",\\n                   \"textOriginal\":\"thank you both very much!\",\\n                   \"authorDisplayName\":\"Akbar Hamdard\",\\n                   \"authorProfileImageUrl\":\"https://yt3.ggpht.com/ytc/AGIKgqNs_vAlmQJCjZC8dNiq_ss94sPHeZ-CLFeyMg=s48-c-k-c0x00ffffff-no-rj\",\\n                   \"authorChannelUrl\":\"http://www.youtube.com/channel/UCkJY8OC5nkNMjVVtdVj8ltQ\",\\n                   \"authorChannelId\":{\\n                      \"value\":\"UCkJY8OC5nkNMjVVtdVj8ltQ\"\\n                   },\\n                   \"canRate\":true,\\n                   \"viewerRating\":\"none\",\\n                   \"likeCount\":0,\\n                   \"publishedAt\":\"2023-04-28T06:12:57Z\",\\n                   \"updatedAt\":\"2023-04-28T06:12:57Z\"\\n                }\\n             },\\n             \"canReply\":true,\\n             \"totalReplyCount\":0,\\n             \"isPublic\":true\\n          }\\n       },\\n       {\\n          \"kind\":\"youtube#commentThread\",\\n          \"etag\":\"cjHuY31ZAGYkpRJtIt7605xh-As\",\\n          \"id\":\"UgwhiuZECztdWt9_TTF4AaABAg\",\\n          \"snippet\":{\\n             \"videoId\":\"yVOQLbq3zqQ\",\\n             \"topLevelComment\":{\\n                \"kind\":\"youtube#comment\",\\n                \"etag\":\"YDlEwK2wJkkx6hGG4UIpxpori2Q\",\\n                \"id\":\"UgwhiuZECztdWt9_TTF4AaABAg\",\\n                \"snippet\":{\\n                   \"videoId\":\"yVOQLbq3zqQ\",\\n                   \"textDisplay\":\"Interesting back and forth and a very smart guest, but let&#39;s not forget that home prices have gone up in 4 of the last 6 recessions (and barely went down in one of them, the only major drop was 2008) and people who bought at the &quot;peak&quot; in 1990 had to wait 10 years for the HPI to catch and pass that level, but then enjoyed a 50%+ gain before the 2008 real estate crash.  Higher highs and higher lows is the trend on the Case Shiller HPI which means if anyone plans on owning a home for 10 years, the statistical probability is that it will work out in your favor.  Even people who bought at the peak in 2007 only had to wait 14 years to hit those HPI levels.  And exactly none of the factors that drove the 2008 crash (robosigning, ARMs/balloon mortgages, first-time homebuyer tax credit program, loose lending standards) are in place.  As a real estate agent I&#39;m more worried about continued home price appreciation than a housing crash.  And you would think &quot;hey why would that real estate agent worry about higher home prices&quot; but it&#39;s because I want to see a stable housing market that is driven by rational decision-making and not FOMO or panic.\",\\n                   \"textOriginal\":\"Interesting back and forth and a very smart guest, but let\\\\\\\\\\'s not forget that home prices have gone up in 4 of the last 6 recessions (and barely went down in one of them, the only major drop was 2008) and people who bought at the \\\\\"peak\\\\\" in 1990 had to wait 10 years for the HPI to catch and pass that level, but then enjoyed a 50%+ gain before the 2008 real estate crash.  Higher highs and higher lows is the trend on the Case Shiller HPI which means if anyone plans on owning a home for 10 years, the statistical probability is that it will work out in your favor.  Even people who bought at the peak in 2007 only had to wait 14 years to hit those HPI levels.  And exactly none of the factors that drove the 2008 crash (robosigning, ARMs/balloon mortgages, first-time homebuyer tax credit program, loose lending standards) are in place.  As a real estate agent I\\\\\\\\\\'m more worried about continued home price appreciation than a housing crash.  And you would think \\\\\"hey why would that real estate agent worry about higher home prices\\\\\" but it\\\\\\\\\\'s because I want to see a stable housing market that is driven by rational decision-making and not FOMO or panic.\",\\n                   \"authorDisplayName\":\"Stephen Smith - Outer Banks Realtor\",\\n                   \"authorProfileImageUrl\":\"https://yt3.ggpht.com/ytc/AGIKgqMGBkpGRUx7g7JzXalMaIXwriZ2R3tgZJ0ickAO=s48-c-k-c0x00ffffff-no-rj\",\\n                   \"authorChannelUrl\":\"http://www.youtube.com/channel/UCoM82XVAzpKYRE7CTWPHOig\",\\n                   \"authorChannelId\":{\\n                      \"value\":\"UCoM82XVAzpKYRE7CTWPHOig\"\\n                   },\\n                   \"canRate\":true,\\n                   \"viewerRating\":\"none\",\\n                   \"likeCount\":0,\\n                   \"publishedAt\":\"2023-04-28T06:11:35Z\",\\n                   \"updatedAt\":\"2023-04-28T06:11:35Z\"\\n                }\\n             },\\n             \"canReply\":true,\\n             \"totalReplyCount\":0,\\n             \"isPublic\":true\\n          }\\n       },\\n       {\\n          \"kind\":\"youtube#commentThread\",\\n          \"etag\":\"QcPSCi3jgneXIX5Ei1zceWDier8\",\\n          \"id\":\"UgyMiNY0i5da9fz6e954AaABAg\",\\n          \"snippet\":{\\n             \"videoId\":\"yVOQLbq3zqQ\",\\n             \"topLevelComment\":{\\n                \"kind\":\"youtube#comment\",\\n                \"etag\":\"9IDFnllKeMaLb0ZJPPFqk4VIOWA\",\\n                \"id\":\"UgyMiNY0i5da9fz6e954AaABAg\",\\n                \"snippet\":{\\n                   \"videoId\":\"yVOQLbq3zqQ\",\\n                   \"textDisplay\":\"This video comes off like it is pieced together, you guys aren’t talking to each other etc…..<br><br>It’s awkward to watch.\",\\n                   \"textOriginal\":\"This video comes off like it is pieced together, you guys aren’t talking to each other etc…..\\\\n\\\\nIt’s awkward to watch.\",\\n                   \"authorDisplayName\":\"AJOYS\",\\n                   \"authorProfileImageUrl\":\"https://yt3.ggpht.com/ytc/AGIKgqO722L_bFI47P4QVQGgQQ-e0DbX-WgEl0aHtQaYO9uNaM7V0ObgZSGxvMbPI7l_=s48-c-k-c0x00ffffff-no-rj\",\\n                   \"authorChannelUrl\":\"http://www.youtube.com/channel/UCQLFuWzKrKLX9-Tr_yJqaKA\",\\n                   \"authorChannelId\":{\\n                      \"value\":\"UCQLFuWzKrKLX9-Tr_yJqaKA\"\\n                   },\\n                   \"canRate\":true,\\n                   \"viewerRating\":\"none\",\\n                   \"likeCount\":0,\\n                   \"publishedAt\":\"2023-04-28T06:08:53Z\",\\n                   \"updatedAt\":\"2023-04-28T06:08:53Z\"\\n                }\\n             },\\n             \"canReply\":true,\\n             \"totalReplyCount\":0,\\n             \"isPublic\":true\\n          }\\n       },\\n       {\\n          \"kind\":\"youtube#commentThread\",\\n          \"etag\":\"7dos9gc-mrCQ8vtuHrbn0l4k1iU\",\\n          \"id\":\"UgzdA2J1aDpGY4pysD14AaABAg\",\\n          \"snippet\":{\\n             \"videoId\":\"yVOQLbq3zqQ\",\\n             \"topLevelComment\":{\\n                \"kind\":\"youtube#comment\",\\n                \"etag\":\"Rp9h13CUkp9CxkZjPfO1okQtQWs\",\\n                \"id\":\"UgzdA2J1aDpGY4pysD14AaABAg\",\\n                \"snippet\":{\\n                   \"videoId\":\"yVOQLbq3zqQ\",\\n                   \"textDisplay\":\"Sadly there are ppl that are soooo dumb n ignorant..they would buy a $400K house(that was worth $300K 2 years ago) that drops to $350K. Even in this turbulent market.  Ppl are that dumb….<br>Then we will see them complaining they can’t afford it or it’s getting foreclosed.  Broken record….\",\\n                   \"textOriginal\":\"Sadly there are ppl that are soooo dumb n ignorant..they would buy a $400K house(that was worth $300K 2 years ago) that drops to $350K. Even in this turbulent market.  Ppl are that dumb….\\\\nThen we will see them complaining they can’t afford it or it’s getting foreclosed.  Broken record….\",\\n                   \"authorDisplayName\":\"John Doe\",\\n                   \"authorProfileImageUrl\":\"https://yt3.ggpht.com/ytc/AGIKgqPVIH3BKu1R4Sl3YwZ8TSFfLlFsHxl7Ck4GBg=s48-c-k-c0x00ffffff-no-rj\",\\n                   \"authorChannelUrl\":\"http://www.youtube.com/channel/UC7e3K9vlNMd39QUZIsbaJZQ\",\\n                   \"authorChannelId\":{\\n                      \"value\":\"UC7e3K9vlNMd39QUZIsbaJZQ\"\\n                   },\\n                   \"canRate\":true,\\n                   \"viewerRating\":\"none\",\\n                   \"likeCount\":0,\\n                   \"publishedAt\":\"2023-04-28T06:08:39Z\",\\n                   \"updatedAt\":\"2023-04-28T06:08:39Z\"\\n                }\\n             },\\n             \"canReply\":true,\\n             \"totalReplyCount\":0,\\n             \"isPublic\":true\\n          }\\n       }\\n    ]\\n}', start_char_idx=None, end_char_idx=None, text_template='{metadata_str}\\n\\n{content}', metadata_template='{key}: {value}', metadata_seperator='\\n'), Document(id_='948c0b593cd503fc48822b164c50700ce75c32d7', embedding=None, metadata={'file_path': 'settings.py', 'file_name': 'settings.py'}, excluded_embed_metadata_keys=[], excluded_llm_metadata_keys=[], relationships={}, hash='677e98d3f6626caa837d289d716544ea5c774da4e1135ef7acad293432179adb', text='DEVELOPER_KEY = \"YOUR_YOUTUBE_API_KEY\"\\nYOUTUBE_SERVICE_NAME = \"youtube\"\\nYOUTUBE_API_VERSION = \"v3\"\\nDA_VINCI_MODEL_LIMITATION = 3000 #Don\\'t change this as that is the limit of the Davinci model\\nOPEN_AI_KEY = \\'YOUR_OPEN_AI_KEY\\'', start_char_idx=None, end_char_idx=None, text_template='{metadata_str}\\n\\n{content}', metadata_template='{key}: {value}', metadata_seperator='\\n')]\n"
          ]
        }
      ]
    },
    {
      "cell_type": "code",
      "execution_count": 14,
      "metadata": {
        "id": "gF0becALLPG0"
      },
      "outputs": [],
      "source": [
        "index = GPTVectorStoreIndex.from_documents(\n",
        "        documents=documents, service_context=service_context\n",
        "    )\n",
        "index.storage_context.persist()\n",
        "query_engine = index.as_query_engine()"
      ]
    },
    {
      "cell_type": "code",
      "execution_count": 31,
      "metadata": {
        "colab": {
          "base_uri": "https://localhost:8080/"
        },
        "id": "k8q-AOu_mFOR",
        "outputId": "627d5de8-bc2e-42eb-dfe2-e646f88ad928"
      },
      "outputs": [
        {
          "output_type": "stream",
          "name": "stdout",
          "text": [
            "Received response\n"
          ]
        }
      ],
      "source": [
        "headers = {\n",
        "    \"content-type\": \"application/json\",\n",
        "    \"Authorization\": \"Bearer {0}\".format(GITHUB_TOKEN),\n",
        "    \"Accept\": \"application/vnd.github.diff\"\n",
        "    }\n",
        "\n",
        "\n",
        "pull_url = \"https://api.github.com/repos/\" + owner + \"/\" + repo + \"/pulls/\" + str(PULL_NUMBER)\n",
        "response = requests.get(pull_url, headers=headers)\n",
        "response_data = None\n",
        "if 200 <= response.status_code < 300:\n",
        "  response_data = response.content\n",
        "else:\n",
        "  print(\"something went wrong while fetching the data\")"
      ]
    },
    {
      "cell_type": "code",
      "source": [
        "response1 = query_engine.query(\n",
        "    f\"\"\"\n",
        "      {QUESTION1}\n",
        "      {QUESTION2}\n",
        "      {QUESTION3}\n",
        "      {QUESTION4}\n",
        "      {QUESTION5}\n",
        "      {INSTRUCTIONS}\n",
        "\n",
        "      {response_data}\n",
        "    \"\"\"\n",
        ")\n",
        "print(\"Received response\")\n",
        "print(response1)"
      ],
      "metadata": {
        "colab": {
          "base_uri": "https://localhost:8080/"
        },
        "id": "kCRm0iOW-gxZ",
        "outputId": "68002eb6-5939-4c45-db8b-f81b5ee6ac21"
      },
      "execution_count": 47,
      "outputs": [
        {
          "output_type": "stream",
          "name": "stdout",
          "text": [
            "Received response\n",
            "\n",
            "Heading: Summary\n",
            "This diff adds a new Python file, test.py, to the repo. It contains two unit tests for the functions search_comments and build_youtube_service, and an Azure key for authentication.\n",
            "\n",
            "Heading: Risk Analysis\n",
            "No breaking changes are introduced with this diff, as no existing code or public functions have been modified or added with required parameters with no default value.\n",
            "\n",
            "Heading: Test Coverage\n",
            "This diff improves the overall test coverage of the repo by adding two new unit tests for search_comments and build_youtube_service.\n",
            "\n",
            "Heading: Potential Bugs\n",
            "No potential bugs are introduced with this diff, as it only adds two unit tests and an authentication key.\n",
            "\n",
            "Heading: Unit Test Cases\n",
            "No unit test cases need to be written for this diff, as it already contains two unit tests for search_comments and build_youtube_service.\n",
            "\n",
            "Reasoning: The diff does not make any changes to existing code, and only adds two unit tests and an authentication key. Therefore, there are no potential bugs introduced, and no additional unit tests need to be written.\n"
          ]
        }
      ]
    },
    {
      "cell_type": "code",
      "source": [
        "from llama_index import SimpleDirectoryReader\n",
        "\n",
        "gdocuments = SimpleDirectoryReader(input_dir=\"./data\")\n",
        "print(gdocuments)\n",
        "\n",
        "gdocs = gdocuments.load_data();\n",
        "gindex = VectorStoreIndex.from_documents(\n",
        "        documents=gdocs, service_context=service_context\n",
        "    )\n",
        "gindex.storage_context.persist()\n",
        "gquery_engine = gindex.as_query_engine()\n",
        "REWRITE = \"Can you rewrite the following data using the data from my Gmail sent mails\"\n",
        "rewritten_data = gquery_engine.query(\n",
        "    f\"\"\"\n",
        "      {REWRITE}\n",
        "\n",
        "      {response1}\n",
        "    \"\"\")\n",
        "print(rewritten_data)\n"
      ],
      "metadata": {
        "colab": {
          "base_uri": "https://localhost:8080/"
        },
        "id": "_d7d5BFNOQdI",
        "outputId": "6d8bf9ce-525a-4c97-8a04-9fa6f8d3614f"
      },
      "execution_count": 50,
      "outputs": [
        {
          "output_type": "stream",
          "name": "stdout",
          "text": [
            "<llama_index.readers.file.base.SimpleDirectoryReader object at 0x787ba7a48880>\n",
            "\n",
            "No changes are needed, as the data provided in the context is sufficient to answer the query.\n"
          ]
        }
      ]
    },
    {
      "cell_type": "code",
      "execution_count": null,
      "metadata": {
        "colab": {
          "base_uri": "https://localhost:8080/"
        },
        "id": "0ZH4F5CC-7dC",
        "outputId": "15c4149e-8787-4762-f47b-2e8ae10bdd15"
      },
      "outputs": [
        {
          "name": "stdout",
          "output_type": "stream",
          "text": [
            "{'body': 'deepika'}\n",
            "something went wrong while posting the comment\n",
            "{'message': 'Not Found', 'documentation_url': 'https://docs.github.com/rest/pulls/comments#update-a-review-comment-for-a-pull-request'}\n"
          ]
        }
      ],
      "source": [
        "\n",
        "\n",
        "\n",
        "\n",
        "\n",
        "\n",
        "\n",
        "\n",
        "\n",
        "\n",
        "comment_to_post = \"CHATGPT Analysis....\"\n",
        "comment_to_post += \"\\nSUMMARY: \\n\"\n",
        "#comment_to_post += str(response1)\n",
        "comment_to_post += \"\\nRISK Analysis: \\n\"\n",
        "#comment_to_post += str(response2)\n",
        "comment_to_post += \"\\nSUMMARY of the Test Coverage: \\n\"\n",
        "#comment_to_post += str(response3)\n",
        "comment_to_post += \"\\n POTENTIAL BUGS: \\n\"\n",
        "#comment_to_post += response4\n",
        "comment_to_post += \"\\nSUGGESTED UNIT TEST CASES: \\n\"\n",
        "#comment_to_post += response5\n",
        "\n",
        "headers = {\n",
        "    \"Authorization\": f\"Bearer {GITHUB_TOKEN}\",\n",
        "    \"Accept\": \"application/vnd.github+json\",\n",
        "    \"X-GitHub-Api-Version\": \"2022-11-28\"\n",
        "    }\n",
        "data = {\"body\": \"deepika\"}\n",
        "print(data)\n",
        "local_commit_url = \"https://api.github.com/repos/deepika087/YouTubeGPT/pulls/1/reviews/\"\n",
        "response = requests.post(local_commit_url , headers=headers, data=json.dumps(data))\n",
        "if 200 <= response.status_code < 300:\n",
        "  print(response.json())\n",
        "else:\n",
        "  print(\"something went wrong while posting the comment\")\n",
        "  print(response.json())\n"
      ]
    }
  ],
  "metadata": {
    "colab": {
      "provenance": [],
      "include_colab_link": true
    },
    "kernelspec": {
      "display_name": "Python 3",
      "name": "python3"
    }
  },
  "nbformat": 4,
  "nbformat_minor": 0
}
